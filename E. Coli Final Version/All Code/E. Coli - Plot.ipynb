{
 "cells": [
  {
   "cell_type": "code",
   "execution_count": 9,
   "metadata": {},
   "outputs": [],
   "source": [
    "import csv\n",
    "import matplotlib.pyplot as pyplot\n",
    "import seaborn as sns\n",
    "from collections import Counter\n",
    "import pandas as pd\n",
    "from operator import itemgetter\n",
    "from matplotlib.collections import BrokenBarHCollection"
   ]
  },
  {
   "cell_type": "code",
   "execution_count": 10,
   "metadata": {},
   "outputs": [
    {
     "name": "stdout",
     "output_type": "stream",
     "text": [
      "1781\n",
      "4647\n"
     ]
    }
   ],
   "source": [
    "i = 1\n",
    "allgenes = []\n",
    "errorgenes = []\n",
    "with open(\"../Data File(s): Genes and Regulation/gene.txt\") as f:\n",
    "    f2 = csv.reader(f, delimiter = \"\\t\")\n",
    "    for line in f2:\n",
    "        if len(line) > 1:\n",
    "            if len(line[1]) == 0:\n",
    "                line[0] = \"Unknown\" + str(i)\n",
    "                i = i+1\n",
    "            try:\n",
    "                start = int(line[2])\n",
    "                length = int(line[3])-start\n",
    "                allgenes.append((line[1], start, length))\n",
    "            except:\n",
    "                errorgenes.append(line[1])\n",
    "\n",
    "reggenes = []\n",
    "with open(\"../Data File(s): Genes and Regulation/generegulation_tmp.txt\") as g:\n",
    "    g2 = csv.reader(g, delimiter = \"\\t\")\n",
    "    for gene in g2:\n",
    "        if len(gene) > 1:\n",
    "            reggenes.append(gene[7])\n",
    "\n",
    "reggenes2 = list(set(reggenes))\n",
    "print(len(reggenes2)) \n",
    "print(len(allgenes)) \n",
    "\n",
    "            \n",
    "        "
   ]
  },
  {
   "cell_type": "code",
   "execution_count": 11,
   "metadata": {},
   "outputs": [
    {
     "name": "stdout",
     "output_type": "stream",
     "text": [
      "['alaB', 'ackB', 'dgd']\n"
     ]
    }
   ],
   "source": [
    "#These genes we don't have loci for, and checks whether any of those genes are regulated\n",
    "print(errorgenes)\n",
    "for genes in errorgenes:\n",
    "    if genes in reggenes2:\n",
    "        print(\"Error in: \" + genes)"
   ]
  },
  {
   "cell_type": "code",
   "execution_count": 13,
   "metadata": {},
   "outputs": [
    {
     "name": "stdout",
     "output_type": "stream",
     "text": [
      "1781\n",
      "2866\n",
      "[]\n",
      "['dcuB', 'hisM', 'zraS', 'cydC', 'acrD', 'garL', 'cpxR', 'aceA', 'aceB']\n",
      "['cysZ', 'dfp', 'rhsE', 'yaaA', 'mepM', 'rodZ', 'ispB', 'csrD', 'yjiA']\n",
      "1781\n",
      "2866\n"
     ]
    }
   ],
   "source": [
    "cis = []\n",
    "noreg = []\n",
    "name = []\n",
    "notsame = []\n",
    "for gene in allgenes:\n",
    "    if gene[0] in reggenes2:\n",
    "        cis.append((gene[1],gene[2]))\n",
    "        name.append(gene[0])\n",
    "    else:\n",
    "        noreg.append((gene[1],gene[2]))\n",
    "        notsame.append(gene[0])\n",
    "print(len(cis))\n",
    "print(len(noreg))\n",
    "print(list(set(reggenes2)-set(name)))\n",
    "#There was nothing that was not a genename in the list of regulated genes\n",
    "print(name[1:10]) \n",
    "print(notsame[1:10]) \n",
    "print(len(name))\n",
    "print(len(notsame))"
   ]
  },
  {
   "cell_type": "code",
   "execution_count": 14,
   "metadata": {},
   "outputs": [],
   "source": [
    "reggenes_ecoli = pd.DataFrame(name)\n",
    "nonreggenes_ecoli = pd.DataFrame(notsame)"
   ]
  },
  {
   "cell_type": "code",
   "execution_count": null,
   "metadata": {},
   "outputs": [],
   "source": [
    "#optional save genes to csv\n",
    "reggenes_ecoli.to_csv(\"ecoli_reggenes.csv\", header = False, index = False)\n",
    "nonreggenes_ecoli.to_csv(\"ecoli_nonreggenes.csv\", header = False, index = False)"
   ]
  },
  {
   "cell_type": "code",
   "execution_count": 22,
   "metadata": {},
   "outputs": [
    {
     "data": {
      "image/png": "[encoded data removed]",
      "text/plain": [
       "<Figure size 432x288 with 1 Axes>"
      ]
     },
     "metadata": {
      "needs_background": "light"
     },
     "output_type": "display_data"
    }
   ],
   "source": [
    "fig = pyplot.figure()\n",
    "ax = fig.add_subplot(111)\n",
    "        \n",
    "#Define the edges and staring/ending points of the chromosomes along with their sizes\n",
    "yticklabels = []\n",
    "yticks = []\n",
    "yranges = [[20,5]]\n",
    "yranges2 = [[25.5,5]]\n",
    "beginner = (-5000,5000)\n",
    "edge = [(4639221,2500)]\n",
    "lengths = [(0,4639221)]\n",
    "edge = [(4639221,2500)]\n",
    "bottoms = [19.5, 19.5]\n",
    "bottoms2 = [25,25]\n",
    "tops = [25, 25]\n",
    "tops2 = [30.5, 30.5]\n",
    "\n",
    "#Plot the data. BrokenbarHcollection (matplotlib) takes inputs in the form of [(start,length), (start, length)...] for\n",
    "#both x and y.\n",
    "for i in range(0,1):\n",
    "    coll = BrokenBarHCollection(cis, yranges2[i], facecolor=\"blue\", zorder= 1)\n",
    "    ax.add_collection(coll)\n",
    "for i in range(0,1):\n",
    "    coll = BrokenBarHCollection(noreg, yranges[i], facecolor=\"red\", zorder = 0.75)\n",
    "    ax.add_collection(coll)\n",
    "    \n",
    "widthbox = 0.5\n",
    "heightbox = 6\n",
    "#This chunk plots the edges and ends of the chromosome, essentially everything in black\n",
    "for i in range(0,1):\n",
    "    col2 = BrokenBarHCollection([lengths[i]], [bottoms[i],widthbox], facecolor=\"black\")\n",
    "    col3 = BrokenBarHCollection([lengths[i]], [tops[i],widthbox], facecolor=\"black\")\n",
    "    col4 = BrokenBarHCollection([beginner,edge[i]], [bottoms[i],heightbox], facecolor=\"black\")\n",
    "    col5 = BrokenBarHCollection([lengths[i]], [bottoms2[i],widthbox], facecolor=\"black\")\n",
    "    col6 = BrokenBarHCollection([lengths[i]], [tops2[i],widthbox], facecolor=\"black\")\n",
    "    col7 = BrokenBarHCollection([beginner,edge[i]], [bottoms2[i],heightbox], facecolor=\"black\")\n",
    "    center = bottoms[i]+5.75\n",
    "    yticks.append(center)\n",
    "    ax.add_collection(col2)\n",
    "    ax.add_collection(col3)\n",
    "    ax.add_collection(col4)\n",
    "    ax.add_collection(col5)\n",
    "    ax.add_collection(col6)\n",
    "    ax.add_collection(col7)\n",
    "\n",
    "#Sets the labels\n",
    "labeler = [\"Circular Chromosome\"]\n",
    "for a in labeler:\n",
    "    yticklabels.append(a)\n",
    "\n",
    "#basically plots and sets some final parameters to improve viewability\n",
    "ax.set_yticks(yticks)\n",
    "ax.set_yticklabels(yticklabels)\n",
    "ax.axis('tight')\n",
    "pyplot.ylabel(\"Chromosome Number\")\n",
    "pyplot.xlabel(\"Position along the chromosome (in multiples of 10 Mbp)\")\n",
    "pyplot.savefig('../Ecoli.pdf') \n",
    "pyplot.show()"
   ]
  },
  {
   "cell_type": "code",
   "execution_count": null,
   "metadata": {},
   "outputs": [],
   "source": []
  }
 ],
 "metadata": {
  "kernelspec": {
   "display_name": "Python 3",
   "language": "python",
   "name": "python3"
  },
  "language_info": {
   "codemirror_mode": {
    "name": "ipython",
    "version": 3
   },
   "file_extension": ".py",
   "mimetype": "text/x-python",
   "name": "python",
   "nbconvert_exporter": "python",
   "pygments_lexer": "ipython3",
   "version": "3.8.3"
  }
 },
 "nbformat": 4,
 "nbformat_minor": 4
}
