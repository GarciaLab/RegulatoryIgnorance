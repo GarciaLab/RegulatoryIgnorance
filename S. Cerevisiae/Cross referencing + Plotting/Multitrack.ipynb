{
 "cells": [
  {
   "cell_type": "code",
   "execution_count": 16,
   "metadata": {},
   "outputs": [],
   "source": [
    "import csv\n",
    "import matplotlib.pyplot as pyplot\n",
    "from matplotlib.collections import BrokenBarHCollection"
   ]
  },
  {
   "cell_type": "code",
   "execution_count": 17,
   "metadata": {},
   "outputs": [],
   "source": [
    "#import list of tests that corrspond to a determination as a cis-gene; replace the one that is being read incorrectly\n",
    "ref = []\n",
    "with open(\"/Users/pranjal/Desktop/Programming/GenomePlot/S. Cerevisae/S. Cerevisiae/All Data/Unique Tests-DirectRegulation.csv\") as f:\n",
    "    mydat = csv.reader(f)\n",
    "    for line in mydat:\n",
    "        line = line[0]\n",
    "        ref.append(line.strip())\n",
    "ref[0] = \"?-galactosidase activity assay ( lacZ reporter fused to the promoter region of YEp367 carrying pERG11)\"\n"
   ]
  },
  {
   "cell_type": "code",
   "execution_count": 18,
   "metadata": {},
   "outputs": [
    {
     "name": "stdout",
     "output_type": "stream",
     "text": [
      "64357\n"
     ]
    }
   ],
   "source": [
    "#import all necessary information from respective files\n",
    "chrom, telom, centrom, allgenesYESdirect, allgenesYESindirect, allgenesNO, temp, genome= [],[],[],[], [], [], [], []\n",
    "a = 0\n",
    "\n",
    "allgenesYES =[]\n",
    "\n",
    "for i in range(0,17):\n",
    "   telom.append([])\n",
    "   centrom.append([])\n",
    "   allgenesYESdirect.append([])\n",
    "   allgenesYESindirect.append([])\n",
    "   allgenesNO.append([])\n",
    "   genome.append([])\n",
    "\n",
    "with open(\"/Users/pranjal/Desktop/Programming/GenomePlot/S. Cerevisae/S. Cerevisiae/All Data/outputchrom.csv\") as f:\n",
    "    data = csv.reader(f)\n",
    "    for line in data:\n",
    "        chrom.append(int(line[2]))\n",
    "\n",
    "with open(\"/Users/pranjal/Desktop/Programming/GenomePlot/S. Cerevisae/S. Cerevisiae/All Data/outputtelom.csv\") as f:\n",
    "    data = csv.reader(f)\n",
    "    for line in data:\n",
    "        telom[int(line[0])-1].append((int(line[1]),int(line[2])))\n",
    "\n",
    "with open(\"/Users/pranjal/Desktop/Programming/GenomePlot/S. Cerevisae/S. Cerevisiae/All Data/outputcentrom.csv\") as f:\n",
    "    data = csv.reader(f)\n",
    "    for line in data:\n",
    "        centrom[int(line[0])-1].append((int(line[1]),int(line[2])))\n",
    "\n",
    "with open(\"/Users/pranjal/Desktop/Programming/GenomePlot/S. Cerevisae/S. Cerevisiae/All Data/outputregulatedgenes2.csv\") as f:\n",
    "    data = csv.reader(f)\n",
    "    for line in data:\n",
    "        temp.append((line[0],line[1]))\n",
    "\n",
    "print(len(temp)) #number of genetic interactions\n",
    "\n",
    "                    \n"
   ]
  },
  {
   "cell_type": "code",
   "execution_count": 19,
   "metadata": {},
   "outputs": [
    {
     "name": "stdout",
     "output_type": "stream",
     "text": [
      "7064\n"
     ]
    }
   ],
   "source": [
    "x = 0\n",
    "genome2 = []\n",
    "#imports all the genes that are not mt into the system\n",
    "with open(\"/Users/pranjal/Desktop/Programming/GenomePlot/S. Cerevisae/S. Cerevisiae/All Data/allgenesformatted1.csv\") as f:\n",
    "    data = csv.reader(f)\n",
    "    for line in data:\n",
    "       x = x+1\n",
    "       if line[1] == \"DUR1,2\":\n",
    "          line[1] = \"DUR1\"\n",
    "       if line[1] == \"ARG5,6\":\n",
    "          line[1] = \"ARG5\"\n",
    "       if line[0] != \"mt\":\n",
    "          genome2.append(line)\n",
    "print(len(genome2)) #total genes\n"
   ]
  },
  {
   "cell_type": "code",
   "execution_count": 20,
   "metadata": {},
   "outputs": [],
   "source": [
    "\n",
    "cis = []\n",
    "dels = []\n",
    "for item in temp:\n",
    "    if item[1] in ref:\n",
    "        cis.append(item)\n",
    "#print(cis[0:10])\n",
    "#print(len(cis))\n",
    "#temp = list(set(temp)-set(cis))\n",
    "#print(len(temp))\n",
    "#names = [x[0] for x in cis]\n",
    "#for item in temp:\n",
    "    #if item[0] in names:\n",
    "     #   dels.append(item)\n",
    "#print(len(dels))\n",
    "#temp = list(set(temp)-set(dels))\n",
    "#print(len(temp))"
   ]
  },
  {
   "cell_type": "code",
   "execution_count": 21,
   "metadata": {},
   "outputs": [
    {
     "name": "stdout",
     "output_type": "stream",
     "text": [
      "6057 253 754\n",
      "done\n"
     ]
    }
   ],
   "source": [
    "namer = [x[0] for x in temp]\n",
    "gener = [x[1] for x in genome2]\n",
    "ciser = [x[0] for x in cis]\n",
    "cis2 = []\n",
    "trans = []\n",
    "for item in gener:\n",
    "    if item in ciser:\n",
    "        cis2.append(item)\n",
    "for item in gener:\n",
    "    if item in namer:\n",
    "        trans.append(item)\n",
    "trans = list(set(trans)-set(cis2))\n",
    "rester = list(set(gener)-set(trans)-set(cis2))\n",
    "print(len(trans), len(cis2), len(rester)) #trans, cis, not regulated count\n",
    "\n",
    "'''\n",
    "            if itemer[1] in ref:\n",
    "               allgenesYESdirect[int(line[0])-1].append((int(line[2]),int(line[3])))\n",
    "               not1.append(line[1])\n",
    "               ind = temp.index(itemer)\n",
    "               del temp[ind]\n",
    "            else :\n",
    "'''\n",
    "'''\n",
    "    else:\n",
    "         if line[1] in temp:\n",
    "             allgenesYES.append((int(line[2]),int(line[3])))\n",
    "             not1.append(line[1])\n",
    "         else:\n",
    "             allgenesNO[16].append((int(line[2]),int(line[3])))\n",
    "\n",
    "print(x)\n",
    "'''  \n",
    "print(\"done\")"
   ]
  },
  {
   "cell_type": "code",
   "execution_count": 22,
   "metadata": {},
   "outputs": [],
   "source": [
    "genome3 = genome2\n",
    "#we are now getting loci instead of only names\n",
    "for line in genome3:\n",
    "        if line[1] in cis2: \n",
    "               allgenesYESdirect[int(line[0])-1].append((int(line[2]),int(line[3])))\n",
    "        elif line[1] in trans:\n",
    "               allgenesYESindirect[int(line[0])-1].append((int(line[2]),int(line[3])))\n",
    "        else:\n",
    "               allgenesNO[int(line[0])-1].append((int(line[2]),int(line[3])))"
   ]
  },
  {
   "cell_type": "code",
   "execution_count": 23,
   "metadata": {},
   "outputs": [
    {
     "name": "stdout",
     "output_type": "stream",
     "text": [
      "253\n",
      "6057\n"
     ]
    }
   ],
   "source": [
    "#get rid of duplicates if any\n",
    "allgenesYESdirect = [list(set(chromo)) for chromo in allgenesYESdirect]\n",
    "allgenesYESindirect = [list(set(chromo)) for chromo in allgenesYESindirect]\n",
    "allgenesNO = [list(set(chromo)) for chromo in allgenesNO]\n",
    "#once again number of cis & trans genes\n",
    "print(sum([len(listElem) for listElem in allgenesYESdirect]))\n",
    "print(sum([len(listElem) for listElem in allgenesYESindirect]))"
   ]
  },
  {
   "cell_type": "code",
   "execution_count": 24,
   "metadata": {},
   "outputs": [
    {
     "name": "stdout",
     "output_type": "stream",
     "text": [
      "253\n",
      "6057\n",
      "754\n"
     ]
    }
   ],
   "source": [
    "print(sum([len(listElem) for listElem in allgenesYESdirect])) #final count cis\n",
    "print(sum([len(listElem) for listElem in allgenesYESindirect])) #final count trans\n",
    "print(sum([len(listElem) for listElem in allgenesNO])) #final count no regulation"
   ]
  },
  {
   "cell_type": "code",
   "execution_count": 26,
   "metadata": {},
   "outputs": [
    {
     "data": {
      "image/png": "[encoded data removed]",
      "text/plain": [
       "<Figure size 432x288 with 1 Axes>"
      ]
     },
     "metadata": {
      "needs_background": "light"
     },
     "output_type": "display_data"
    }
   ],
   "source": [
    "#Define the edges and staring/ending points of the chromosomes along with their sizes\n",
    "yticks = []\n",
    "yranges = []\n",
    "yranges2 = []\n",
    "yranges3 = []\n",
    "yranges4 = []\n",
    "yrange1, yrange2, yrange3, yranges5, yranges6 = [], [], [], [], []\n",
    "\n",
    "for i in range(1,17):\n",
    "   yranges.append([(i*30)-10.5, 15])\n",
    "   yranges2.append([(i*30)-10.5, 0.5])\n",
    "   yranges3.append([(i*30)-5.5,0.5])\n",
    "   yranges4.append([(i*30)-12.5, 21])\n",
    "   yranges5.append([(i*30)-0.5,0.5])\n",
    "   yranges6.append([(i*30)+4.5,0.5])\n",
    "   yrange1.append([(i*30)-10,5])\n",
    "   yrange2.append([(i*30)-5,5])\n",
    "   yrange3.append([(i*30),5])\n",
    "   yticks.append((i*30)-1.5)\n",
    "\n",
    "\n",
    "fig = pyplot.figure()\n",
    "ax = fig.add_subplot(111)\n",
    "\n",
    "#Plot the data. BrokenbarHcollection (matplotlib) takes inputs in the form of [(start,length), (start, length)...] for\n",
    "#both x and y.\n",
    "#This chunk plots the edges and ends of the chromosome, essentially everything in black as well\n",
    "for i in range(0,16):\n",
    "    coll = BrokenBarHCollection([(-1000,1000),(chrom[i], 1000)], yranges[i], facecolor=\"black\", zorder= 0.5)#, clip_box = from_bounds(0, 20, 100000, 5))\n",
    "    ax.add_collection(coll)\n",
    "    #col2 = BrokenBarHCollection(telom[i], yranges[i], facecolor=\"purple\", zorder= 0.5)\n",
    "    #ax.add_collection(col2)\n",
    "    col3 = BrokenBarHCollection(centrom[i], yranges4[i], facecolor=\"brown\", zorder= 0.5)\n",
    "    ax.add_collection(col3)\n",
    "    col4 = BrokenBarHCollection([(-1000,chrom[i]+ 2000)], yranges2[i], facecolor=\"black\", zorder= 0.5)#, clip_box = from_bounds(0, 20, 100000, 5))\n",
    "    ax.add_collection(col4)\n",
    "    col5 = BrokenBarHCollection([(-1000,chrom[i]+ 2000)], yranges3[i], facecolor=\"black\", zorder= 0.5)#, clip_box = from_bounds(0, 20, 100000, 5))\n",
    "    ax.add_collection(col5)\n",
    "    col6 = BrokenBarHCollection(allgenesYESdirect[i], yrange3[i], facecolor=\"blue\", zorder= 0.3)#, clip_box = from_bounds(0, 20, 100000, 5))\n",
    "    ax.add_collection(col6)\n",
    "    col7 = BrokenBarHCollection(allgenesNO[i], yrange1[i], facecolor=\"red\", zorder= 0.2)\n",
    "    ax.add_collection(col7)\n",
    "    col8 = BrokenBarHCollection(allgenesYESindirect[i], yrange2[i], facecolor=\"darkgreen\", zorder= 0.3)#, clip_box = from_bounds(0, 20, 100000, 5))\n",
    "    ax.add_collection(col8)\n",
    "    col9 = BrokenBarHCollection([(-1000,chrom[i]+ 2000)], yranges5[i], facecolor=\"black\", zorder= 0.5)#, clip_box = from_bounds(0, 20, 100000, 5))\n",
    "    ax.add_collection(col9)\n",
    "    col10 = BrokenBarHCollection([(-1000,chrom[i]+ 2000)], yranges6[i], facecolor=\"black\", zorder= 0.5)#, clip_box = from_bounds(0, 20, 100000, 5))\n",
    "    ax.add_collection(col10)\n",
    "\n",
    "#Sets the labels\n",
    "yticklabels = []\n",
    "for a in range(1,17):\n",
    "    yticklabels.append(a)\n",
    "\n",
    "#basically plots and sets some final parameters to improve viewability\n",
    "ax.set_yticks(yticks)\n",
    "ax.set_yticklabels(yticklabels) \n",
    "pyplot.ylabel(\"Chromosome Number\")\n",
    "pyplot.xlabel(\"Position along the chromosome (in multiples of 1 Mbp)\")\n",
    "ax.axis('tight')\n",
    "pyplot.savefig(\"/Users/pranjal/Desktop/Programming/GenomePlot/S. Cerevisae/S. Cerevisiae/SCerevisiae.pdf\")\n",
    "\n"
   ]
  },
  {
   "cell_type": "code",
   "execution_count": null,
   "metadata": {},
   "outputs": [],
   "source": []
  }
 ],
 "metadata": {
  "kernelspec": {
   "display_name": "Python 3",
   "language": "python",
   "name": "python3"
  },
  "language_info": {
   "codemirror_mode": {
    "name": "ipython",
    "version": 3
   },
   "file_extension": ".py",
   "mimetype": "text/x-python",
   "name": "python",
   "nbconvert_exporter": "python",
   "pygments_lexer": "ipython3",
   "version": "3.8.3"
  }
 },
 "nbformat": 4,
 "nbformat_minor": 4
}
