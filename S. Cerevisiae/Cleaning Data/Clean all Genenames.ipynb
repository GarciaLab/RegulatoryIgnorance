{
 "cells": [
  {
   "cell_type": "code",
   "execution_count": 1,
   "metadata": {},
   "outputs": [],
   "source": [
    "import csv\n",
    "import matplotlib.pyplot as pyplot\n",
    "from matplotlib.collections import BrokenBarHCollection\n",
    "import re\n"
   ]
  },
  {
   "cell_type": "code",
   "execution_count": 2,
   "metadata": {},
   "outputs": [],
   "source": [
    "namech,name,g = [],[], []\n",
    "a,b, c,d,e = 0,0, 0,0,0\n",
    "\n",
    "##STep 3 of pathway\n",
    "##Roman to csv\n",
    "class Solution(object):\n",
    "   def romanToInt(self, s):\n",
    "      \"\"\"\n",
    "      :type s: str\n",
    "      :rtype: int\n",
    "      \"\"\"\n",
    "      roman = {'I':1,'V':5,'X':10,'L':50,'C':100,'D':500,'M':1000,'IV':4,'IX':9,'XL':40,'XC':90,'CD':400,'CM':900}\n",
    "      i = 0\n",
    "      num = 0\n",
    "      while i < len(s):\n",
    "         if i+1<len(s) and s[i:i+2] in roman:\n",
    "            num+=roman[s[i:i+2]]\n",
    "            i+=2\n",
    "         else:\n",
    "            #print(i)\n",
    "            num+=roman[s[i]]\n",
    "            i+=1\n",
    "      return num\n",
    "ob1 = Solution()\n"
   ]
  },
  {
   "cell_type": "code",
   "execution_count": 3,
   "metadata": {},
   "outputs": [],
   "source": [
    "for i in range(0,17):\n",
    "   g.append([])\n",
    "\n",
    "#cleans the names of the genes i.e removes genes from mitochondria, ones that have faulty id and/or genenames, the \"(\"\n",
    "#and \")\" that have been replaced with \"%28\" and \"%29\" respectively. \n",
    "with open(\"/Users/pranjal/Desktop/Programming/GenomePlot/S. Cerevisae/S. Cerevisiae/All Data/out.csv\") as f:\n",
    "    data = csv.reader(f)\n",
    "    for line in data:\n",
    "        start = int(line[3])\n",
    "        stop = int(line[4])\n",
    "        width = stop-start\n",
    "        allitems = line[-1].split(\";\")\n",
    "        if line[0] != \"chrmt\":\n",
    "            line[0] = ob1.romanToInt(line[0][3:])\n",
    "            if line[2] == \"gene\":\n",
    "                c = c+1\n",
    "                if allitems[2][:4].lower() == \"gene\":\n",
    "                      g[line[0]-1].append((line[0],allitems[2][5:],start,width))\n",
    "                      a = a+1\n",
    "####                      name.append(item[5:])\n",
    "                elif allitems[0][:2].lower() == \"id\":\n",
    "####                      if allitems[1][5:] == item[3:]:\n",
    "####                         e = e+1\n",
    "####                         name.append(item[3:])\n",
    "                      g[line[0]-1].append((line[0],allitems[0][3:],start,width))\n",
    "                      a = a+1\n",
    "####                      name.append(item[3:])\n",
    "            elif line[2].split(\"_\")[-1] == \"gene\":\n",
    "                b = b+1\n",
    "                if allitems[2][:4].lower() == \"gene\":\n",
    "                      g[line[0]-1].append((line[0],allitems[2][5:],start,width))\n",
    "                      a = a+1\n",
    "##                      break\n",
    "                elif allitems[0][:2].lower() == \"id\":\n",
    "####                         a = a+1\n",
    "                      if line[2] == \"tRNA_gene\":\n",
    "                         clearname = allitems[0][3:]\n",
    "                         clearname = clearname.replace(\"%28\", \"(\")\n",
    "                         clearname = clearname.replace(\"%29\", \")\")\n",
    "                         g[line[0]-1].append((line[0],clearname,start,width))\n",
    "                         a = a+1\n",
    "                      else:\n",
    "                         g[line[0]-1].append((line[0],allitems[0][3:],start,width))\n",
    "                         a = a+1  \n",
    "        else:\n",
    "            if line[2] == \"gene\":\n",
    "                c = c+1\n",
    "                if allitems[2][:4].lower() == \"gene\":\n",
    "                       g[16].append((\"mt\",allitems[2][5:],start,width))\n",
    "                       a = a+1\n",
    "                elif allitems[0][:2].lower() == \"id\":\n",
    "                       g[16].append((\"mt\",allitems[0][3:],start,width))\n",
    "                       a = a+1\n",
    "            elif line[2].split(\"_\")[-1] == \"gene\":\n",
    "                b = b+1\n",
    "                if allitems[2][:4].lower() == \"gene\":\n",
    "                       g[16].append((\"mt\",allitems[2][5:],start,width))\n",
    "                       a = a+1\n",
    "                elif allitems[0][:2].lower() == \"id\":\n",
    "                      if line[2] == \"tRNA_gene\":\n",
    "                         clearname = allitems[0][3:]\n",
    "                         clearname = clearname.replace(\"%28\", \"(\")\n",
    "                         clearname = clearname.replace(\"%29\", \")\")\n",
    "                         g[16].append((\"mt\",clearname,start,width))\n",
    "                         a = a+1\n",
    "                      else:\n",
    "                         g[16].append((\"mt\",allitems[0][3:],start,width))\n",
    "                         a = a+1"
   ]
  },
  {
   "cell_type": "code",
   "execution_count": 4,
   "metadata": {},
   "outputs": [
    {
     "name": "stdout",
     "output_type": "stream",
     "text": [
      "6600 519 7119\n",
      "7119\n",
      "7119\n",
      "17\n"
     ]
    }
   ],
   "source": [
    "for item in g:\n",
    "   d = d+len(item)\n",
    "##   for thing in item:\n",
    "##      if thing[1] == \"SNR44\":\n",
    "##         print(thing)\n",
    "##      namech.append(thing[0])\n",
    "##print(len(list(set(namech)-set(name))))\n",
    "\n",
    "\n",
    "print(d) #number of genes before getting rid of mt genes\n",
    "with open(\"/Users/pranjal/Desktop/Programming/GenomePlot/S. Cerevisae/S. Cerevisiae/All Data/allgenesformatted1.csv\", \"w\") as f:\n",
    "    writer = csv.writer(f)\n",
    "    for item in g:\n",
    "       writer.writerows(item)\n",
    "       e = e+1\n",
    "print(e) #number of total chrom (including mt)"
   ]
  },
  {
   "cell_type": "code",
   "execution_count": null,
   "metadata": {},
   "outputs": [],
   "source": []
  }
 ],
 "metadata": {
  "kernelspec": {
   "display_name": "Python 3",
   "language": "python",
   "name": "python3"
  },
  "language_info": {
   "codemirror_mode": {
    "name": "ipython",
    "version": 3
   },
   "file_extension": ".py",
   "mimetype": "text/x-python",
   "name": "python",
   "nbconvert_exporter": "python",
   "pygments_lexer": "ipython3",
   "version": "3.8.3"
  }
 },
 "nbformat": 4,
 "nbformat_minor": 4
}
