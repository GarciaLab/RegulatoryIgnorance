{
 "cells": [
  {
   "cell_type": "code",
   "execution_count": 1,
   "metadata": {},
   "outputs": [
    {
     "name": "stdout",
     "output_type": "stream",
     "text": [
      "315497\n",
      "12433\n"
     ]
    }
   ],
   "source": [
    "import csv\n",
    "import pandas as pd\n",
    "allnames = []\n",
    "with open(\"/Users/pranjal/Desktop/Programming/GenomePlot/S. Cerevisae/S. Cerevisiae/All Data/yeastract2019-flat-file.tsv\") as fd:\n",
    "    rd = csv.reader(fd, delimiter=\"\\t\")#, quotechar='\"')\n",
    "    for row in rd:\n",
    "        allnames.append((row[3], row[8]))\n",
    "print(len(allnames))\n",
    "allnames2 = list(set(allnames))\n",
    "print(len(allnames2))\n",
    "allnames2 = [list(item) for item in allnames2]\n",
    "my_df = pd.DataFrame(allnames2)\n",
    "my_df.to_csv('/Users/pranjal/Desktop/Programming/GenomePlot/S. Cerevisae/S. Cerevisiae/All Data/outputregulatedgenes2.csv', index=False, header=False)\n"
   ]
  },
  {
   "cell_type": "code",
   "execution_count": null,
   "metadata": {},
   "outputs": [],
   "source": []
  }
 ],
 "metadata": {
  "kernelspec": {
   "display_name": "Python 3",
   "language": "python",
   "name": "python3"
  },
  "language_info": {
   "codemirror_mode": {
    "name": "ipython",
    "version": 3
   },
   "file_extension": ".py",
   "mimetype": "text/x-python",
   "name": "python",
   "nbconvert_exporter": "python",
   "pygments_lexer": "ipython3",
   "version": "3.8.3"
  }
 },
 "nbformat": 4,
 "nbformat_minor": 4
}
