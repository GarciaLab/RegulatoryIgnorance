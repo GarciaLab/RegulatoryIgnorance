{
 "cells": [
  {
   "cell_type": "code",
   "execution_count": 1,
   "metadata": {},
   "outputs": [],
   "source": [
    "import csv"
   ]
  },
  {
   "cell_type": "code",
   "execution_count": 2,
   "metadata": {},
   "outputs": [],
   "source": [
    "##Roman to csv\n",
    "class Solution(object):\n",
    "   def romanToInt(self, s):\n",
    "      \"\"\"\n",
    "      :type s: str\n",
    "      :rtype: int\n",
    "      \"\"\"\n",
    "      roman = {'I':1,'V':5,'X':10,'L':50,'C':100,'D':500,'M':1000,'IV':4,'IX':9,'XL':40,'XC':90,'CD':400,'CM':900}\n",
    "      i = 0\n",
    "      num = 0\n",
    "      while i < len(s):\n",
    "         if i+1<len(s) and s[i:i+2] in roman:\n",
    "            num+=roman[s[i:i+2]]\n",
    "            i+=2\n",
    "         else:\n",
    "            #print(i)\n",
    "            num+=roman[s[i]]\n",
    "            i+=1\n",
    "      return num\n",
    "ob1 = Solution()"
   ]
  },
  {
   "cell_type": "code",
   "execution_count": 3,
   "metadata": {},
   "outputs": [
    {
     "name": "stdout",
     "output_type": "stream",
     "text": [
      "16 16 16 7064\n"
     ]
    }
   ],
   "source": [
    "\n",
    "##Save centromere, telomere, gene total lengths (only dataset that has this info). Step 2 of pathway\n",
    "a,b = 0,0\n",
    "c,g,t,cent,comp = [],[],[],[], []\n",
    "for i in range(0,16):\n",
    "   c.append([])\n",
    "   g.append([])\n",
    "   t.append([])\n",
    "   cent.append([])\n",
    "   comp.append([])\n",
    "with open(\"/Users/pranjal/Desktop/Programming/GenomePlot/S. Cerevisae/S. Cerevisiae/All Data/out.csv\") as f:\n",
    "    data = csv.reader(f)\n",
    "    for line in data:\n",
    "        if line[0] != \"chrmt\":\n",
    "            line[0] = ob1.romanToInt(line[0][3:])\n",
    "            start = int(line[3])\n",
    "            stop = int(line[4])\n",
    "            width = stop-start\n",
    "            if line[2] == \"chromosome\":\n",
    "                c[line[0]-1].append((line[0],start,width))\n",
    "            elif line[2] == \"telomere\":\n",
    "                t[line[0]-1].append((line[0],start,width))\n",
    "            elif line[2] == \"centromere\":\n",
    "                cent[line[0]-1].append((line[0],start,width))\n",
    "            elif line[2] == \"gene\":\n",
    "                g[line[0]-1].append((start,width))\n",
    "                a = a+1\n",
    "            elif line[2].split(\"_\")[-1] == \"gene\":\n",
    "                g[line[0]-1].append((start,width))\n",
    "                b = b+1\n",
    "               \n",
    "\n",
    "telclear = [list(set(item)) for item in t]\n",
    "centclear = [list(set(item)) for item in cent]\n",
    "\n",
    "            \n",
    "print(len(c),len(telclear),len(centclear), a+b) #Number of chrom, telomere/chrom, centromere, total genes"
   ]
  },
  {
   "cell_type": "code",
   "execution_count": 4,
   "metadata": {},
   "outputs": [],
   "source": [
    "#Saving files\n",
    "with open(\"/Users/pranjal/Desktop/Programming/GenomePlot/S. Cerevisae/S. Cerevisiae/All Data/outputchrom.csv\", \"w\") as f:\n",
    "    writer = csv.writer(f)\n",
    "    for item in c:\n",
    "       writer.writerows(item)\n",
    "\n",
    "with open(\"/Users/pranjal/Desktop/Programming/GenomePlot/S. Cerevisae/S. Cerevisiae/All Data/outputtelom.csv\", \"w\") as f:\n",
    "    writer = csv.writer(f)\n",
    "    for item in telclear:\n",
    "       writer.writerows(item)\n",
    "\n",
    "with open(\"/Users/pranjal/Desktop/Programming/GenomePlot/S. Cerevisae/S. Cerevisiae/All Data/outputcentrom.csv\", \"w\") as f:\n",
    "    writer = csv.writer(f)\n",
    "    for item in centclear:\n",
    "       writer.writerows(item)"
   ]
  },
  {
   "cell_type": "code",
   "execution_count": null,
   "metadata": {},
   "outputs": [],
   "source": []
  }
 ],
 "metadata": {
  "kernelspec": {
   "display_name": "Python 3",
   "language": "python",
   "name": "python3"
  },
  "language_info": {
   "codemirror_mode": {
    "name": "ipython",
    "version": 3
   },
   "file_extension": ".py",
   "mimetype": "text/x-python",
   "name": "python",
   "nbconvert_exporter": "python",
   "pygments_lexer": "ipython3",
   "version": "3.8.3"
  }
 },
 "nbformat": 4,
 "nbformat_minor": 4
}
