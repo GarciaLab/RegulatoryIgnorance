{
 "cells": [
  {
   "cell_type": "code",
   "execution_count": 15,
   "metadata": {},
   "outputs": [],
   "source": [
    "import csv\n",
    "import matplotlib.pyplot as pyplot\n",
    "import math\n",
    "from matplotlib.collections import BrokenBarHCollection\n",
    "import pandas as pd"
   ]
  },
  {
   "cell_type": "code",
   "execution_count": 16,
   "metadata": {},
   "outputs": [],
   "source": [
    "#The data is in the form column 1-5/6 are metadata, columns 5/6+ have information stored about regulation in the form\n",
    "#column A = genename and column B = type of regulation. Therefore, each row varies in size from 7 colums to over 15\n",
    "#depending on the interaction. This code uses these properties to cleanly derive these 2-pairs of (gene, regulation) \n",
    "#which can then be easily \"filtered\" based on our desired interactions i.e this code is cleaning code\n",
    "a,b,c,d,e,f = 0,0,0,0,0,0\n",
    "number = -3\n",
    "master = []\n",
    "types= []\n",
    "with open('/Users/pranjal/Desktop/Programming/GenomePlot/C. Elegans/C. Elegans/All Data/interactions.txt', 'r') as tsvfile:\n",
    "    writer = csv.reader(tsvfile, delimiter='\\t')\n",
    "    next(writer)\n",
    "    for row in writer:\n",
    "        x = int(math.ceil(len(row)/3))-2\n",
    "        for i in range(0,x):\n",
    "            num1 = number*i-2\n",
    "            num2 = number*i-1\n",
    "            master.append((row[num1],row[num2]))"
   ]
  },
  {
   "cell_type": "code",
   "execution_count": 17,
   "metadata": {},
   "outputs": [
    {
     "name": "stdout",
     "output_type": "stream",
     "text": [
      "61 2728\n",
      "206\n"
     ]
    }
   ],
   "source": [
    "#This code gets us a list of the genes we want for each category (cis, trans, none)\n",
    "alls = []\n",
    "alls22 = []\n",
    "for item in master:\n",
    "    if item[1] == \"Cis_regulated\":\n",
    "            alls.append(item[0])\n",
    "    elif item[1] == \"Trans_regulated\":\n",
    "            alls22.append(item[0])\n",
    "            \n",
    "alls2 = list(set(alls))\n",
    "allstwo = list(set(alls22))\n",
    "print(len(alls2), len(allstwo)) #Number of cis genes, Number of trans genes respectively\n",
    "print (len(alls)) #number of cis INTERACTIONS (not genes)"
   ]
  },
  {
   "cell_type": "code",
   "execution_count": 18,
   "metadata": {},
   "outputs": [],
   "source": [
    "same = []\n",
    "same1 =[]\n",
    "#This code cross references. The dataset here contains the data of genetic loci. allgenesgreen ends up with all trans\n",
    "#information, allgenesblue with all cis information. \n",
    "allgenesgreen = [[],[],[],[],[],[]]\n",
    "allgenesblue = [[],[],[],[],[],[]]\n",
    "a = 0\n",
    "#sum1, sum2, sum3, sum4, sum5, sum6, sum21, sum22, sum23, sum24, sum25, sum26 = 0,0,0,0,0,0,0,0,0,0,0,0\n",
    "notsame = []\n",
    "allgenes = [[],[],[],[],[],[]]\n",
    "alltransgenes = [[],[],[],[],[],[]]\n",
    "othergenes = [[],[],[],[],[],[]]\n",
    "with open('/Users/pranjal/Desktop/Programming/GenomePlot/C. Elegans/C. Elegans/All Data/results.tsv', 'r') as tsvfile2:\n",
    "    writer = csv.reader(tsvfile2, delimiter='\\t')\n",
    "    for row in writer:\n",
    "        start = int(row[3])\n",
    "        stop = int(row[4])\n",
    "        width = (stop-start)\n",
    "        if row[1] in alls2:\n",
    "            a = a+1\n",
    "            same.append(row[1])\n",
    "            same1.append(row[0])\n",
    "            if row[2] == 'X':\n",
    "                allgenes[0].append((start,width))\n",
    "                #sum1 = sum1 + width\n",
    "            elif row[2] == 'I':\n",
    "                allgenes[1].append((start,width))\n",
    "                #sum2 = sum2 + width\n",
    "            elif row[2] == 'II':\n",
    "                allgenes[2].append((start,width))\n",
    "                #sum3 = sum3 + width\n",
    "            elif row[2] == 'III':\n",
    "                allgenes[3].append((start,width))\n",
    "                #sum4 = sum4 + width\n",
    "            elif row[2] == 'IV':\n",
    "                allgenes[4].append((start,width))\n",
    "                #sum5 = sum5 + width\n",
    "            elif row[2] == 'V':\n",
    "                allgenes[5].append((start,width))\n",
    "                #sum6 = sum6 + width\n",
    "        elif row[1] in allstwo:\n",
    "            a = a+1\n",
    "            same.append(row[1])\n",
    "            same1.append(row[0])\n",
    "            if row[2] == 'X':\n",
    "                alltransgenes[0].append((start,width))\n",
    "                #sum21 = sum21 + width\n",
    "            elif row[2] == 'I':\n",
    "                alltransgenes[1].append((start,width))\n",
    "                #sum22 = sum22 + width\n",
    "            elif row[2] == 'II':\n",
    "                alltransgenes[2].append((start,width))\n",
    "                #sum23 = sum23 + width\n",
    "            elif row[2] == 'III':\n",
    "                alltransgenes[3].append((start,width))\n",
    "                #sum24 = sum24 + width\n",
    "            elif row[2] == 'IV':\n",
    "                alltransgenes[4].append((start,width))\n",
    "                #sum25 = sum25 + width\n",
    "            elif row[2] == 'V':\n",
    "                alltransgenes[5].append((start,width))\n",
    "                #sum26 = sum26 + width\n",
    "        else:\n",
    "            if row[2] == 'X':\n",
    "                othergenes[0].append((start,width))\n",
    "                notsame.append(row[1])\n",
    "            elif row[2] == 'I':\n",
    "                othergenes[1].append((start,width))\n",
    "                notsame.append(row[1])\n",
    "            elif row[2] == 'II':\n",
    "                othergenes[2].append((start,width))\n",
    "                notsame.append(row[1])\n",
    "            elif row[2] == 'III':\n",
    "                othergenes[3].append((start,width))\n",
    "                notsame.append(row[1])\n",
    "            elif row[2] == 'IV':\n",
    "                othergenes[4].append((start,width))\n",
    "                notsame.append(row[1])\n",
    "            elif row[2] == 'V':\n",
    "                othergenes[5].append((start,width))\n",
    "                notsame.append(row[1])\n",
    "\n",
    "\n",
    "#allgenesgreen[0].append((sum1, sum21))\n",
    "#allgenesgreen[1].append((sum2, sum22))\n",
    "#allgenesgreen[2].append((sum3, sum23))\n",
    "#allgenesgreen[3].append((sum4, sum24))\n",
    "#allgenesgreen[4].append((sum5, sum25))\n",
    "#allgenesgreen[5].append((sum6, sum26))"
   ]
  },
  {
   "cell_type": "code",
   "execution_count": 20,
   "metadata": {},
   "outputs": [
    {
     "name": "stdout",
     "output_type": "stream",
     "text": [
      "set()\n"
     ]
    }
   ],
   "source": [
    "finaler = []\n",
    "finaler2 = []\n",
    "\n",
    "#Gets the list of cis genes that were verified in the database by a curator were added to be cross-referenced, we\n",
    "#we didn't have any exception in this case, but just in case in the future there were cis genes the code missed\n",
    "with open('/Users/pranjal/Desktop/Programming/GenomePlot/C. Elegans/C. Elegans/All Data/cis.txt', 'r') as tsvfile3:\n",
    "    writer = csv.reader(tsvfile3, delimiter='\\t')\n",
    "    for row in writer:\n",
    "        finaler2.append(row[0])\n",
    "        \n",
    "diff2 = set(finaler2) - set (same1)\n",
    "print(diff2)"
   ]
  },
  {
   "cell_type": "code",
   "execution_count": 23,
   "metadata": {},
   "outputs": [
    {
     "name": "stdout",
     "output_type": "stream",
     "text": [
      "All done\n"
     ]
    }
   ],
   "source": [
    "#Adds the genes that were erroneously not added in the raw data importation stage (second chunk). There are none\n",
    "#in this case, but in the future if there are this code was created. \n",
    "with open('/Users/pranjal/Desktop/Programming/GenomePlot/C. Elegans/C. Elegans/All Data/results.tsv', 'r') as tsvfile2:\n",
    "    writer = csv.reader(tsvfile2, delimiter='\\t')\n",
    "    for row in writer:\n",
    "        start = int(row[3])\n",
    "        stop = int(row[4])\n",
    "        width = (stop-start)\n",
    "        if row[0] in diff2:\n",
    "            a = a+1\n",
    "            same.append(row[1])\n",
    "            print(row[1])\n",
    "            if row[2] == 'X':\n",
    "                allgenes[0].append((start,width))\n",
    "                #sum1 = sum1 + width\n",
    "            elif row[2] == 'I':\n",
    "                allgenes[1].append((start,width))\n",
    "                #sum2 = sum2 + width\n",
    "            elif row[2] == 'II':\n",
    "                allgenes[2].append((start,width))\n",
    "                #sum3 = sum3 + width\n",
    "            elif row[2] == 'III':\n",
    "                allgenes[3].append((start,width))\n",
    "                #sum4 = sum4 + width\n",
    "            elif row[2] == 'IV':\n",
    "                allgenes[4].append((start,width))\n",
    "                #sum5 = sum5 + width\n",
    "            elif row[2] == 'V':\n",
    "                allgenes[5].append((start,width))\n",
    "                #sum6 = sum6 + width\n",
    "\n",
    "'''\n",
    "print(a)\n",
    "allgenesblue[0].append((0, sum1))\n",
    "allgenesblue[1].append((0, sum2))\n",
    "allgenesblue[2].append((0, sum3))\n",
    "allgenesblue[3].append((0, sum4))\n",
    "allgenesblue[4].append((0, sum5))\n",
    "allgenesblue[5].append((0, sum6))\n",
    "allgenesgreen[0].append((sum1, sum21))\n",
    "allgenesgreen[1].append((sum2, sum22))\n",
    "allgenesgreen[2].append((sum3, sum23))\n",
    "allgenesgreen[3].append((sum4, sum24))\n",
    "allgenesgreen[4].append((sum5, sum25))\n",
    "allgenesgreen[5].append((sum6, sum26))\n",
    "'''\n",
    "print(\"All done\")"
   ]
  },
  {
   "cell_type": "code",
   "execution_count": 25,
   "metadata": {},
   "outputs": [],
   "source": [
    "#Saves a \"progress report\" of all trans genes\n",
    "df = pd.DataFrame(same)\n",
    "df.to_csv('/Users/pranjal/Desktop/Programming/GenomePlot/C. Elegans/C. Elegans/All Data/outputname.csv', index=False)\n",
    "for i in range(0,6):\n",
    "    othergenes[i] = list(set(othergenes[i])-set(alltransgenes[i])-set(allgenes[i])) #in case of accidental duplication\n",
    "                                                                                   #gets rid of duplicate genes\n",
    "    \n"
   ]
  },
  {
   "cell_type": "code",
   "execution_count": 26,
   "metadata": {},
   "outputs": [
    {
     "name": "stdout",
     "output_type": "stream",
     "text": [
      "optional code for magnification of a certain area of genome, skipped here\n"
     ]
    }
   ],
   "source": [
    "'''\n",
    "magnified = [[],[],[]]\n",
    "for gene1 in allgenes[0]:\n",
    "    if gene1[0] > 5000000 and (gene1[0] + gene1[1]) < 6000000:\n",
    "        magnified[0].append((10*(gene1[0]-5000000), 10*gene1[1]))\n",
    "for gene2 in othergenes[0]:\n",
    "    if gene2[0] > 5000000 and (gene2[0] + gene2[1]) < 6000000:\n",
    "        magnified[1].append((10*(gene2[0]-5000000), 10*gene2[1]))\n",
    "for gene3 in alltransgenes[0]:\n",
    "    if gene3[0] > 5000000 and (gene3[0] + gene3[1]) < 6000000:\n",
    "        magnified[2].append((10*(gene3[0]-5000000), 10*gene3[1]))\n",
    "print(magnified[0])\n",
    "'''\n",
    "print(\"optional code for magnification of a certain area of genome, skipped here\")"
   ]
  },
  {
   "cell_type": "code",
   "execution_count": 9,
   "metadata": {},
   "outputs": [
    {
     "name": "stdout",
     "output_type": "stream",
     "text": [
      "61\n",
      "2707\n",
      "43691\n"
     ]
    }
   ],
   "source": [
    "print(sum([len(listelem) for listelem in allgenes])) #cis genes\n",
    "print(sum([len(listelem) for listelem in alltransgenes])) #trans genes\n",
    "print(sum([len(listelem) for listelem in othergenes])) #no regulation"
   ]
  },
  {
   "cell_type": "code",
   "execution_count": 27,
   "metadata": {},
   "outputs": [
    {
     "data": {
      "image/png": "[encoded data removed]",
      "text/plain": [
       "<Figure size 432x288 with 1 Axes>"
      ]
     },
     "metadata": {
      "needs_background": "light"
     },
     "output_type": "display_data"
    }
   ],
   "source": [
    "fig = pyplot.figure()\n",
    "ax = fig.add_subplot(111)\n",
    "\n",
    "#Define the edges and staring/ending points of the chromosomes along with their sizes\n",
    "yticklabels = []\n",
    "yticks = []\n",
    "yranges = [[20,5],[40,5],[60,5],[80,5],[100,5],[120,5],[140,5],[160,5],[180,5],[200,5],[220,5],[240,5]]\n",
    "yranges2 = [[18,9],[38,9],[58,9],[78,9],[98,9],[118,9],[138,9],[158,9],[178,9],[198,9],[218,9],[238,9]]\n",
    "yranges3 = [[25.5,5],[55.5,5],[85.5,5],[115.5,5],[145.5,5],[175.5,5],[140,5],[160,5],[180,5],[200,5],[220,5],[240,5]]\n",
    "yranges4 = [[31,5],[61,5],[91,5],[121,5],[151,5],[181,5],[140,5],[160,5],[180,5],[200,5],[220,5],[240,5]]\n",
    "yranges5 = [[20,5],[50,5],[80,5],[110,5],[140,5],[170,5],[140,5],[160,5],[180,5],[200,5],[220,5],[240,5]]\n",
    "beginner = (-250000,250000)\n",
    "edge = [(17718942,250000), (15072434,250000),(15279421,250000),(13783801,250000), (17493829,250000), (20924180,250000), (17718942,250000), (15072434,250000),(15279421,250000),(13783801,250000), (17493829,250000), (20924180,250000)]\n",
    "lengths = [(0,17718942), (0,15072434), (0,15279421),(0,13783801),(0,17493829),(0,20924180), (0,10000000), (0,15072434), (0,15279421),(0,13783801),(0,17493829),(0,20924180)]\n",
    "bottoms = [19.5, 39.5, 59.5, 79.5, 99.5, 119.5, 139.5, 159.5, 179.5, 199.5, 219.5, 239.5]\n",
    "bottoms2 = [19.5, 49.5, 79.5, 109.5, 139.5, 169.5, 199.5, 159.5, 179.5, 199.5, 219.5, 239.5]\n",
    "bottoms3 = [25,55,85,115,145,175, 205, 165, 185, 205, 225, 245]\n",
    "bottoms4 = [30.5,60.5,90.5,120.5,150.5,180.5, 210.5, 165, 185, 205, 225, 245]\n",
    "tops = [25,45,65,85,105,125, 145, 165, 185, 205, 225, 245]\n",
    "tops2 = [25,55,85,115,145,175, 145, 165, 185, 205, 225, 245]\n",
    "tops3 = [30.5,60.5,90.5,120.5,150.5,180.5, 210.5, 165, 185, 205, 225, 245]\n",
    "tops4 = [36,66,96,126,156,186, 216, 165, 185, 205, 225, 245]\n",
    "\n",
    "#Plot the data. BrokenbarHcollection (matplotlib) takes inputs in the form of [(start,length), (start, length)...] for\n",
    "#both x and y.\n",
    "for i in range(0,6):\n",
    "    coll = BrokenBarHCollection(allgenes[i], yranges4[i], facecolor=\"blue\", zorder= 1)#, clip_box = from_bounds(0, 20, 100000, 5))\n",
    "    ax.add_collection(coll)\n",
    "for i in range(0,6):\n",
    "    coll = BrokenBarHCollection(othergenes[i], yranges5[i], facecolor=\"red\", zorder = 0.75)#, clip_box = from_bounds(0, 20, 100000, 5))\n",
    "    ax.add_collection(coll)\n",
    "for i in range(0,6):\n",
    "    coll = BrokenBarHCollection(alltransgenes[i], yranges3[i], facecolor=\"darkgreen\", zorder = 1)#, clip_box = from_bounds(0, 20, 100000, 5))\n",
    "    ax.add_collection(coll)\n",
    "#for i in range(6,12):\n",
    "    #coll = BrokenBarHCollection(allgenesblue[i-6], yranges2[i], facecolor=\"blue\", zorder= 1)#, clip_box = from_bounds(0, 20, 100000, 5))\n",
    "    #ax.add_collection(coll)\n",
    "#for i in range(6,12):\n",
    "    #coll = BrokenBarHCollection(allgenesgreen[i-6], yranges2[i], facecolor=\"green\", zorder= 1)#, clip_box = from_bounds(0, 20, 100000, 5))\n",
    "    #ax.add_collection(coll)\n",
    "    \n",
    "widthbox = 0.5\n",
    "heightbox = 6\n",
    "\n",
    "'''\n",
    "col2 = BrokenBarHCollection(magnified[0], [211,5], facecolor=\"blue\", zorder = 1)\n",
    "col3 = BrokenBarHCollection(magnified[1], [200,5], facecolor=\"red\", zorder = 1)\n",
    "col4 = BrokenBarHCollection(magnified[2], [205.5,5], facecolor=\"darkgreen\", zorder = 0.5)\n",
    "ax.add_collection(col2)\n",
    "ax.add_collection(col3)\n",
    "ax.add_collection(col4)\n",
    "col9 = BrokenBarHCollection([(5000000, 30000), (6000000, 30000)], [18,21], facecolor=\"black\")\n",
    "col10 = BrokenBarHCollection([(5000000, 1030000)], [39, 0.5], facecolor=\"black\")\n",
    "col11 = BrokenBarHCollection([(5000000, 1030000)], [17.5, 0.5], facecolor=\"black\")\n",
    "ax.add_collection(col9)\n",
    "ax.add_collection(col10)\n",
    "ax.add_collection(col11)\n",
    "'''\n",
    "\n",
    "#This chunk plots the edges and ends of the chromosome, essentially everything in black\n",
    "for i in range(0,6):\n",
    "    col2 = BrokenBarHCollection([lengths[i]], [bottoms2[i],widthbox], facecolor=\"black\")\n",
    "    col3 = BrokenBarHCollection([lengths[i]], [bottoms3[i],widthbox], facecolor=\"black\")\n",
    "    col4 = BrokenBarHCollection([lengths[i]], [bottoms4[i],widthbox], facecolor=\"black\")\n",
    "    col5 = BrokenBarHCollection([lengths[i]], [tops2[i],widthbox], facecolor=\"black\")\n",
    "    col6 = BrokenBarHCollection([lengths[i]], [tops3[i],widthbox], facecolor=\"black\")\n",
    "    col7 = BrokenBarHCollection([lengths[i]], [tops4[i],widthbox], facecolor=\"black\")\n",
    "    col8 = BrokenBarHCollection([beginner,edge[i]], [bottoms2[i],heightbox], facecolor=\"black\")\n",
    "    col9 = BrokenBarHCollection([beginner,edge[i]], [bottoms3[i],heightbox], facecolor=\"black\")\n",
    "    col10 = BrokenBarHCollection([beginner,edge[i]], [bottoms4[i],heightbox], facecolor=\"black\")\n",
    "    center = bottoms2[i]+8.5\n",
    "    yticks.append(center)\n",
    "    ax.add_collection(col2)\n",
    "    ax.add_collection(col3)\n",
    "    ax.add_collection(col4)\n",
    "    ax.add_collection(col5)\n",
    "    ax.add_collection(col6)\n",
    "    ax.add_collection(col7)\n",
    "    ax.add_collection(col8)\n",
    "    ax.add_collection(col9)\n",
    "    ax.add_collection(col10)\n",
    "    \n",
    "    \n",
    "    \n",
    "\n",
    "#Sets the labels\n",
    "labeler2 = [\"X\",\"1\", \"2\", \"3\", \"4\", \"5\"]#, \"Y\"]\n",
    "for a in labeler2:\n",
    "    yticklabels.append(a)\n",
    "\n",
    "#basically plots and sets some final parameters to improve viewability\n",
    "ax.set_yticks(yticks)\n",
    "ax.set_yticklabels(yticklabels)\n",
    "ax.axis('tight')\n",
    "pyplot.ylabel(\"Chromosome Number\")\n",
    "pyplot.xlabel(\"Position along the chromosome (in multiples of 10 Mbp)\")\n",
    "pyplot.savefig('/Users/pranjal/Desktop/Programming/Genomeplot/C. Elegans/C. Elegans/C. ElegansMar16.pdf') \n",
    "pyplot.show()"
   ]
  },
  {
   "cell_type": "code",
   "execution_count": null,
   "metadata": {},
   "outputs": [],
   "source": []
  }
 ],
 "metadata": {
  "kernelspec": {
   "display_name": "Python 3",
   "language": "python",
   "name": "python3"
  },
  "language_info": {
   "codemirror_mode": {
    "name": "ipython",
    "version": 3
   },
   "file_extension": ".py",
   "mimetype": "text/x-python",
   "name": "python",
   "nbconvert_exporter": "python",
   "pygments_lexer": "ipython3",
   "version": "3.8.3"
  }
 },
 "nbformat": 4,
 "nbformat_minor": 4
}
