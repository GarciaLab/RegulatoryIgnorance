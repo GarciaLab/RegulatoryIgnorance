{
 "cells": [
  {
   "cell_type": "code",
   "execution_count": 6,
   "id": "d40810ff",
   "metadata": {},
   "outputs": [],
   "source": [
    "import csv\n",
    "import pandas as pd\n",
    "import matplotlib.pyplot as pyplot\n",
    "from matplotlib.collections import BrokenBarHCollection"
   ]
  },
  {
   "cell_type": "code",
   "execution_count": 9,
   "id": "d020bda2",
   "metadata": {},
   "outputs": [],
   "source": [
    "out = []\n",
    "# Open the raw data obtained from the SCG Database\n",
    "with open('../Data File(s): Genes and Regulation/saccharomyces_cerevisiae.20200811.gff.csv') as f:\n",
    "    # Read the file as comma separated values\n",
    "    data = csv.reader(f)\n",
    "    for line in data:\n",
    "        out.append(line)"
   ]
  },
  {
   "cell_type": "code",
   "execution_count": 10,
   "id": "49963edc",
   "metadata": {},
   "outputs": [
    {
     "name": "stderr",
     "output_type": "stream",
     "text": [
      "IOPub data rate exceeded.\n",
      "The notebook server will temporarily stop sending output\n",
      "to the client in order to avoid crashing it.\n",
      "To change this limit, set the config variable\n",
      "`--NotebookApp.iopub_data_rate_limit`.\n",
      "\n",
      "Current values:\n",
      "NotebookApp.iopub_data_rate_limit=1000000.0 (bytes/sec)\n",
      "NotebookApp.rate_limit_window=3.0 (secs)\n",
      "\n"
     ]
    }
   ],
   "source": [
    "print(out)"
   ]
  },
  {
   "cell_type": "code",
   "execution_count": null,
   "id": "3b466e1b",
   "metadata": {},
   "outputs": [],
   "source": []
  }
 ],
 "metadata": {
  "kernelspec": {
   "display_name": "Python 3 (ipykernel)",
   "language": "python",
   "name": "python3"
  },
  "language_info": {
   "codemirror_mode": {
    "name": "ipython",
    "version": 3
   },
   "file_extension": ".py",
   "mimetype": "text/x-python",
   "name": "python",
   "nbconvert_exporter": "python",
   "pygments_lexer": "ipython3",
   "version": "3.9.13"
  }
 },
 "nbformat": 4,
 "nbformat_minor": 5
}
