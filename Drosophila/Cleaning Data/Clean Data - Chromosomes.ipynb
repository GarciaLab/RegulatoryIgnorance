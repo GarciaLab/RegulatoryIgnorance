{
 "cells": [
  {
   "cell_type": "code",
   "execution_count": 1,
   "metadata": {},
   "outputs": [],
   "source": [
    "import csv\n",
    "import pandas as pd"
   ]
  },
  {
   "cell_type": "code",
   "execution_count": 2,
   "metadata": {},
   "outputs": [],
   "source": [
    "## open tsv, read it and open the file to put cleaned data in\n",
    "with open(\"/Users/pranjal/Desktop/Programming//GenomePlot/Drosophila/Drosophila/All Data/AllGenes + Locus.tsv\")as f:\n",
    "  data = csv.reader(f, delimiter=\"\\t\")\n",
    "  next(data)\n",
    "  x = 0 ## to count number of non mitochondrial genes\n",
    "  y = 0  # count mitochondrial gene\n",
    "  list1 = []\n",
    "  c = 0\n",
    "  z = 0\n",
    "  q = 0\n",
    "  checker = []\n",
    "  #total genes 31640\n",
    "  \n",
    "  for row in data:\n",
    "      if len(row)>5: ## establish the row is of form we want\n",
    "          if row[0] == \"Dmel\": ## remove non melanogaster genes\n",
    "              c= c+1\n",
    "              del row[0] ## Remove useless rows, index changes\n",
    "              if row[0].split(\":\")[0].lower() == \"mt\": #remove mitochondrial genes\n",
    "                  y = y + 1\n",
    "                  continue\n",
    "              del row[2]\n",
    "              del row[2]\n",
    "              if len(row[2]) > 5: # seperate start, end, chrom info\n",
    "                  loc = row.pop(2).split(\":\")\n",
    "                  chr1 = loc[0]\n",
    "                  start, endish = [loc[1].split(\"..\")[i] for i in (0,1)]\n",
    "                  end = endish.split(\"(\")[0]\n",
    "              row.append(chr1) # add to the row 3 columns\n",
    "              row.append(start)\n",
    "              row.append(end)\n",
    "              list1.append(row)\n",
    "              x = x + 1"
   ]
  },
  {
   "cell_type": "code",
   "execution_count": 3,
   "metadata": {},
   "outputs": [],
   "source": [
    "df = pd.DataFrame(list1)\n",
    "quits= []\n",
    "allchrom = [\"X\",\"2L\", \"2R\", \"3L\", \"3R\", \"4\"]#, \"Y\"]\n",
    "df.to_csv('/Users/pranjal/Desktop/Programming//GenomePlot/Drosophila/Drosophila/All Data/IntermediateFileForCleanData.csv', index=False)\n",
    "plscheck = ['CG8788', 'Sry-alpha']\n",
    "list2 = []"
   ]
  },
  {
   "cell_type": "code",
   "execution_count": 4,
   "metadata": {},
   "outputs": [],
   "source": [
    "with open(\"/Users/pranjal/Desktop/Programming//GenomePlot/Drosophila/Drosophila/All Data/IntermediateFileForCleanData.csv\")as a:\n",
    "  data = csv.reader(a)\n",
    "  next(data)\n",
    "  for line in data:\n",
    "      lineclear = list(filter(None, line))\n",
    "      if lineclear[2] in allchrom:\n",
    "          if (lineclear[2],lineclear[3],lineclear[4]) in checker:\n",
    "              z = z +1\n",
    "              if lineclear[0] in plscheck:\n",
    "                  list2.append(lineclear)\n",
    "              else:\n",
    "                  continue\n",
    "          else:\n",
    "              checker.append((lineclear[2],lineclear[3], lineclear[4]))\n",
    "              list2.append(lineclear)\n",
    "      else:\n",
    "          q = q+1\n",
    "df = pd.DataFrame(list2)\n",
    "df.to_csv('/Users/pranjal/Desktop/Programming//GenomePlot/Drosophila/Drosophila/All Data/Final Clean Data for Genes.csv', index=False)"
   ]
  },
  {
   "cell_type": "code",
   "execution_count": 5,
   "metadata": {},
   "outputs": [
    {
     "name": "stdout",
     "output_type": "stream",
     "text": [
      "31601\n",
      "39\n",
      "31640\n",
      "13904\n",
      "199\n",
      "17500\n"
     ]
    }
   ],
   "source": [
    "print(x) #non mt\n",
    "print(y) #mt\n",
    "print(c) #all melanogaster\n",
    "print(z) #removed due to duplication\n",
    "print(q) #removed due to weird chromosome info\n",
    "print(len(list2)) #genes finally in there"
   ]
  },
  {
   "cell_type": "code",
   "execution_count": null,
   "metadata": {},
   "outputs": [],
   "source": []
  }
 ],
 "metadata": {
  "kernelspec": {
   "display_name": "Python 3",
   "language": "python",
   "name": "python3"
  },
  "language_info": {
   "codemirror_mode": {
    "name": "ipython",
    "version": 3
   },
   "file_extension": ".py",
   "mimetype": "text/x-python",
   "name": "python",
   "nbconvert_exporter": "python",
   "pygments_lexer": "ipython3",
   "version": "3.8.3"
  }
 },
 "nbformat": 4,
 "nbformat_minor": 4
}
