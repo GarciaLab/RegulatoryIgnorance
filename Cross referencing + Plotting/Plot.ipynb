{
 "cells": [
  {
   "cell_type": "code",
   "execution_count": 1,
   "metadata": {},
   "outputs": [],
   "source": [
    "import csv\n",
    "import matplotlib.pyplot as pyplot\n",
    "from matplotlib.collections import BrokenBarHCollection"
   ]
  },
  {
   "cell_type": "code",
   "execution_count": 2,
   "metadata": {},
   "outputs": [],
   "source": [
    "chrom, telom, centrom, allgenesYESdirect, allgenesYESindirect, allgenesNO, temp, not1 = [],[],[],[], [], [], [], []\n",
    "a = 0\n",
    "\n",
    "allgenesYES =[]\n",
    "\n",
    "for i in range(0,17):\n",
    "   telom.append([])\n",
    "   centrom.append([])\n",
    "   allgenesYESdirect.append([])\n",
    "   allgenesYESindirect.append([])\n",
    "   allgenesNO.append([])\n",
    "\n",
    "with open(\"/Users/pranjal/Desktop/Programming/GenomePlot/S. Cerevisae/S. Cerevisiae/All Data/outputchrom.csv\") as f:\n",
    "    data = csv.reader(f)\n",
    "    for line in data:\n",
    "        chrom.append(int(line[2]))\n",
    "\n",
    "with open(\"/Users/pranjal/Desktop/Programming/GenomePlot/S. Cerevisae/S. Cerevisiae/All Data/outputtelom.csv\") as f:\n",
    "    data = csv.reader(f)\n",
    "    for line in data:\n",
    "        telom[int(line[0])-1].append((int(line[1]),int(line[2])))\n",
    "\n",
    "with open(\"/Users/pranjal/Desktop/Programming/GenomePlot/S. Cerevisae/S. Cerevisiae/All Data/outputcentrom.csv\") as f:\n",
    "    data = csv.reader(f)\n",
    "    for line in data:\n",
    "        centrom[int(line[0])-1].append((int(line[1]),int(line[2])))\n",
    "\n",
    "with open(\"/Users/pranjal/Desktop/Programming/GenomePlot/S. Cerevisae/S. Cerevisiae/All Data/outputregulatedgenes2.csv\") as f:\n",
    "    data = csv.reader(f)\n",
    "    for line in data:\n",
    "        temp.append((line[0],line[1]))\n",
    "\n",
    "                    \n",
    "#x = 0\n",
    "with open(\"/Users/pranjal/Desktop/Programming/GenomePlot/S. Cerevisae/S. Cerevisiae/All Data/allgenesformatted1.csv\") as f:\n",
    "    data = csv.reader(f)\n",
    "    for line in data:\n",
    "       if line[1] == \"DUR1,2\":\n",
    "          line[1] = \"DUR1\"\n",
    "       if line[1] == \"ARG5,6\":\n",
    "          line[1] = \"ARG5\"\n",
    "       if line[0] != \"mt\":\n",
    "        for itemer in temp:\n",
    "         #x = x+1 \n",
    "         #if x< 20:\n",
    "                #print(itemer)\n",
    "         if line[1] == itemer[0] and itemer[1] == \"Direct\":\n",
    "             allgenesYESdirect[int(line[0])-1].append((int(line[2]),int(line[3])))\n",
    "             not1.append(line[1])\n",
    "         elif line[1] == itemer[0] and itemer[1] == \"Indirect\":\n",
    "             allgenesYESindirect[int(line[0])-1].append((int(line[2]),int(line[3])))\n",
    "             not1.append(line[1])\n",
    "         else:\n",
    "             allgenesNO[int(line[0])-1].append((int(line[2]),int(line[3])))\n",
    "       else:\n",
    "         if line[1] in temp:\n",
    "             allgenesYES.append((int(line[2]),int(line[3])))\n",
    "             not1.append(line[1])\n",
    "         else:\n",
    "             allgenesNO[16].append((int(line[2]),int(line[3])))\n"
   ]
  },
  {
   "cell_type": "code",
   "execution_count": 5,
   "metadata": {},
   "outputs": [
    {
     "name": "stdout",
     "output_type": "stream",
     "text": [
      "12433\n",
      "6006\n",
      "6138\n"
     ]
    }
   ],
   "source": [
    "print(len(temp))\n",
    "allgenesYESdirect = [list(set(chromo)) for chromo in allgenesYESdirect]\n",
    "allgenesYESindirect = [list(set(chromo)) for chromo in allgenesYESindirect]\n",
    "allgenesNO = [list(set(chromo)) for chromo in allgenesNO]\n",
    "print(sum([len(listElem) for listElem in allgenesYESdirect]))\n",
    "print(sum([len(listElem) for listElem in allgenesYESindirect]))"
   ]
  },
  {
   "cell_type": "code",
   "execution_count": 11,
   "metadata": {},
   "outputs": [
    {
     "data": {
      "image/png": "[encoded data removed]",
      "text/plain": [
       "<Figure size 432x288 with 1 Axes>"
      ]
     },
     "metadata": {
      "needs_background": "light"
     },
     "output_type": "display_data"
    }
   ],
   "source": [
    "yticks = []\n",
    "yranges = []\n",
    "yranges2 = []\n",
    "yranges3 = []\n",
    "yranges4 = []\n",
    "\n",
    "for i in range(1,17):\n",
    "   yranges.append([i*20, 10])\n",
    "   yranges2.append([(i*20)-2.5, 2.5])\n",
    "   yranges3.append([(i*20)+10,2.5])\n",
    "   yranges4.append([(i*20)-5, 20])\n",
    "   yticks.append(i*20+5)\n",
    "\n",
    "\n",
    "fig = pyplot.figure()\n",
    "ax = fig.add_subplot(111)\n",
    "\n",
    "for i in range(0,16):\n",
    "    coll = BrokenBarHCollection([(-10000,10000),(chrom[i], 10000)], yranges[i], facecolor=\"black\", zorder= 0.5)#, clip_box = from_bounds(0, 20, 100000, 5))\n",
    "    ax.add_collection(coll)\n",
    "    col2 = BrokenBarHCollection(telom[i], yranges[i], facecolor=\"purple\", zorder= 0.5)\n",
    "    ax.add_collection(col2)\n",
    "    col3 = BrokenBarHCollection(centrom[i], yranges4[i], facecolor=\"brown\", zorder= 0.5)\n",
    "    ax.add_collection(col3)\n",
    "    col4 = BrokenBarHCollection([(-10000,chrom[i]+ 20000)], yranges2[i], facecolor=\"black\", zorder= 0.5)#, clip_box = from_bounds(0, 20, 100000, 5))\n",
    "    ax.add_collection(col4)\n",
    "    col5 = BrokenBarHCollection([(-10000,chrom[i]+ 20000)], yranges3[i], facecolor=\"black\", zorder= 0.5)#, clip_box = from_bounds(0, 20, 100000, 5))\n",
    "    ax.add_collection(col5)\n",
    "    col6 = BrokenBarHCollection(allgenesYESdirect[i], yranges[i], facecolor=\"blue\", zorder= 0.3)#, clip_box = from_bounds(0, 20, 100000, 5))\n",
    "    ax.add_collection(col6)\n",
    "    col7 = BrokenBarHCollection(allgenesNO[i], yranges[i], facecolor=\"red\", zorder= 0.2)\n",
    "    ax.add_collection(col7)\n",
    "    col8 = BrokenBarHCollection(allgenesYESindirect[i], yranges[i], facecolor=\"darkgreen\", zorder= 0.3)#, clip_box = from_bounds(0, 20, 100000, 5))\n",
    "    ax.add_collection(col8)\n",
    "\n",
    "yticklabels = []\n",
    "for a in range(1,17):\n",
    "    yticklabels.append(a)\n",
    "\n",
    "ax.set_yticks(yticks)\n",
    "ax.set_yticklabels(yticklabels) \n",
    "pyplot.ylabel(\"Chromosome Number\")\n",
    "pyplot.xlabel(\"Position along the chromosome (in multiples of Mbp)\")\n",
    "ax.axis('tight')\n",
    "pyplot.savefig(\"/Users/pranjal/Desktop/Programming/GenomePlot/S. Cerevisae/S. Cerevisiae/SCerevisiae.pdf\")\n",
    "\n"
   ]
  },
  {
   "cell_type": "code",
   "execution_count": null,
   "metadata": {},
   "outputs": [],
   "source": []
  }
 ],
 "metadata": {
  "kernelspec": {
   "display_name": "Python 3",
   "language": "python",
   "name": "python3"
  },
  "language_info": {
   "codemirror_mode": {
    "name": "ipython",
    "version": 3
   },
   "file_extension": ".py",
   "mimetype": "text/x-python",
   "name": "python",
   "nbconvert_exporter": "python",
   "pygments_lexer": "ipython3",
   "version": "3.8.3"
  }
 },
 "nbformat": 4,
 "nbformat_minor": 4
}
