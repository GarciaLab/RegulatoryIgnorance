{
 "cells": [
  {
   "cell_type": "code",
   "execution_count": 1,
   "metadata": {},
   "outputs": [],
   "source": [
    "import csv\n",
    "import pandas as pd\n",
    "import matplotlib.pyplot as pyplot\n",
    "from matplotlib.collections import BrokenBarHCollection"
   ]
  },
  {
   "cell_type": "code",
   "execution_count": 2,
   "metadata": {},
   "outputs": [],
   "source": [
    "#cleans up the raw data for the genes/telom/centrom file. Step 1 of cleaning\n",
    "out = []\n",
    "with open('../Data File(s): Genes and Regulation/saccharomyces_cerevisiae.20200811.gff.csv') as f:\n",
    "    data = csv.reader(f)\n",
    "    for line in data:\n",
    "        lineclear = list(filter(None, line))\n",
    "        if len(lineclear) > 2:\n",
    "            out.append(line)"
   ]
  },
  {
   "cell_type": "code",
   "execution_count": 3,
   "metadata": {},
   "outputs": [],
   "source": [
    "with open(\"../Intermediate Files/out.csv\", \"w\", newline=\"\") as f:\n",
    "    writer = csv.writer(f)\n",
    "    writer.writerows(out)"
   ]
  },
  {
   "cell_type": "code",
   "execution_count": 4,
   "metadata": {},
   "outputs": [],
   "source": [
    "##Roman to csv\n",
    "class Solution(object):\n",
    "   def romanToInt(self, s):\n",
    "      \"\"\"\n",
    "      :type s: str\n",
    "      :rtype: int\n",
    "      \"\"\"\n",
    "      roman = {'I':1,'V':5,'X':10,'L':50,'C':100,'D':500,'M':1000,'IV':4,'IX':9,'XL':40,'XC':90,'CD':400,'CM':900}\n",
    "      i = 0\n",
    "      num = 0\n",
    "      while i < len(s):\n",
    "         if i+1<len(s) and s[i:i+2] in roman:\n",
    "            num+=roman[s[i:i+2]]\n",
    "            i+=2\n",
    "         else:\n",
    "            #print(i)\n",
    "            num+=roman[s[i]]\n",
    "            i+=1\n",
    "      return num\n",
    "ob1 = Solution()"
   ]
  },
  {
   "cell_type": "code",
   "execution_count": 5,
   "metadata": {},
   "outputs": [
    {
     "name": "stdout",
     "output_type": "stream",
     "text": [
      "16 16 16 7064\n"
     ]
    }
   ],
   "source": [
    "##Save centromere, telomere, gene total lengths (only dataset that has this info). Step 2 of pathway\n",
    "a,b = 0,0\n",
    "c,g,t,cent,comp = [],[],[],[], []\n",
    "for i in range(0,16):\n",
    "   c.append([])\n",
    "   g.append([])\n",
    "   t.append([])\n",
    "   cent.append([])\n",
    "   comp.append([])\n",
    "with open(\"../Intermediate Files/out.csv\") as f:\n",
    "    data = csv.reader(f)\n",
    "    for line in data:\n",
    "        if line[0] != \"chrmt\":\n",
    "            line[0] = ob1.romanToInt(line[0][3:])\n",
    "            start = int(line[3])\n",
    "            stop = int(line[4])\n",
    "            width = stop-start\n",
    "            if line[2] == \"chromosome\":\n",
    "                c[line[0]-1].append((line[0],start,width))\n",
    "            elif line[2] == \"telomere\":\n",
    "                t[line[0]-1].append((line[0],start,width))\n",
    "            elif line[2] == \"centromere\":\n",
    "                cent[line[0]-1].append((line[0],start,width))\n",
    "            elif line[2] == \"gene\":\n",
    "                g[line[0]-1].append((start,width))\n",
    "                a = a+1\n",
    "            elif line[2].split(\"_\")[-1] == \"gene\":\n",
    "                g[line[0]-1].append((start,width))\n",
    "                b = b+1\n",
    "               \n",
    "\n",
    "telclear = [list(set(item)) for item in t]\n",
    "centclear = [list(set(item)) for item in cent]\n",
    "\n",
    "            \n",
    "print(len(c),len(telclear),len(centclear), a+b) #Number of chrom, telomere/chrom, centromere, total genes"
   ]
  },
  {
   "cell_type": "code",
   "execution_count": 6,
   "metadata": {},
   "outputs": [],
   "source": [
    "#Saving files\n",
    "with open(\"../Intermediate Files/outputchrom.csv\", \"w\") as f:\n",
    "    writer = csv.writer(f)\n",
    "    for item in c:\n",
    "       writer.writerows(item)\n",
    "\n",
    "with open(\"../Intermediate Files/outputtelom.csv\", \"w\") as f:\n",
    "    writer = csv.writer(f)\n",
    "    for item in telclear:\n",
    "       writer.writerows(item)\n",
    "\n",
    "with open(\"../Intermediate Files/outputcentrom.csv\", \"w\") as f:\n",
    "    writer = csv.writer(f)\n",
    "    for item in centclear:\n",
    "       writer.writerows(item)"
   ]
  },
  {
   "cell_type": "code",
   "execution_count": 7,
   "metadata": {},
   "outputs": [],
   "source": [
    "namech,name,g = [],[], []\n",
    "a,b, c,d,e = 0,0, 0,0,0\n",
    "\n",
    "for i in range(0,17):\n",
    "   g.append([])\n",
    "\n",
    "#cleans the names of the genes i.e removes genes from mitochondria, ones that have faulty id and/or genenames, the \"(\"\n",
    "#and \")\" that have been replaced with \"%28\" and \"%29\" respectively. \n",
    "with open(\"../Intermediate Files/out.csv\") as f:\n",
    "    data = csv.reader(f)\n",
    "    for line in data:\n",
    "        start = int(line[3])\n",
    "        stop = int(line[4])\n",
    "        width = stop-start\n",
    "        allitems = line[-1].split(\";\")\n",
    "        if line[0] != \"chrmt\":\n",
    "            line[0] = ob1.romanToInt(line[0][3:])\n",
    "            if line[2] == \"gene\":\n",
    "                c = c+1\n",
    "                if allitems[2][:4].lower() == \"gene\":\n",
    "                      g[line[0]-1].append((line[0],allitems[2][5:],start,width))\n",
    "                      a = a+1\n",
    "####                      name.append(item[5:])\n",
    "                elif allitems[0][:2].lower() == \"id\":\n",
    "####                      if allitems[1][5:] == item[3:]:\n",
    "####                         e = e+1\n",
    "####                         name.append(item[3:])\n",
    "                      g[line[0]-1].append((line[0],allitems[0][3:],start,width))\n",
    "                      a = a+1\n",
    "####                      name.append(item[3:])\n",
    "            elif line[2].split(\"_\")[-1] == \"gene\":\n",
    "                b = b+1\n",
    "                if allitems[2][:4].lower() == \"gene\":\n",
    "                      g[line[0]-1].append((line[0],allitems[2][5:],start,width))\n",
    "                      a = a+1\n",
    "##                      break\n",
    "                elif allitems[0][:2].lower() == \"id\":\n",
    "####                         a = a+1\n",
    "                      if line[2] == \"tRNA_gene\":\n",
    "                         clearname = allitems[0][3:]\n",
    "                         clearname = clearname.replace(\"%28\", \"(\")\n",
    "                         clearname = clearname.replace(\"%29\", \")\")\n",
    "                         g[line[0]-1].append((line[0],clearname,start,width))\n",
    "                         a = a+1\n",
    "                      else:\n",
    "                         g[line[0]-1].append((line[0],allitems[0][3:],start,width))\n",
    "                         a = a+1  \n",
    "        else:\n",
    "            if line[2] == \"gene\":\n",
    "                c = c+1\n",
    "                if allitems[2][:4].lower() == \"gene\":\n",
    "                       g[16].append((\"mt\",allitems[2][5:],start,width))\n",
    "                       a = a+1\n",
    "                elif allitems[0][:2].lower() == \"id\":\n",
    "                       g[16].append((\"mt\",allitems[0][3:],start,width))\n",
    "                       a = a+1\n",
    "            elif line[2].split(\"_\")[-1] == \"gene\":\n",
    "                b = b+1\n",
    "                if allitems[2][:4].lower() == \"gene\":\n",
    "                       g[16].append((\"mt\",allitems[2][5:],start,width))\n",
    "                       a = a+1\n",
    "                elif allitems[0][:2].lower() == \"id\":\n",
    "                      if line[2] == \"tRNA_gene\":\n",
    "                         clearname = allitems[0][3:]\n",
    "                         clearname = clearname.replace(\"%28\", \"(\")\n",
    "                         clearname = clearname.replace(\"%29\", \")\")\n",
    "                         g[16].append((\"mt\",clearname,start,width))\n",
    "                         a = a+1\n",
    "                      else:\n",
    "                         g[16].append((\"mt\",allitems[0][3:],start,width))\n",
    "                         a = a+1"
   ]
  },
  {
   "cell_type": "code",
   "execution_count": 8,
   "metadata": {},
   "outputs": [
    {
     "name": "stdout",
     "output_type": "stream",
     "text": [
      "7119\n",
      "17\n"
     ]
    }
   ],
   "source": [
    "for item in g:\n",
    "   d = d+len(item)\n",
    "##   for thing in item:\n",
    "##      if thing[1] == \"SNR44\":\n",
    "##         print(thing)\n",
    "##      namech.append(thing[0])\n",
    "##print(len(list(set(namech)-set(name))))\n",
    "\n",
    "\n",
    "print(d) #number of genes before getting rid of mt genes\n",
    "with open(\"../Intermediate Files/allgenesformatted1.csv\", \"w\") as f:\n",
    "    writer = csv.writer(f)\n",
    "    for item in g:\n",
    "       writer.writerows(item)\n",
    "       e = e+1\n",
    "print(e) #number of total chrom (including mt)"
   ]
  },
  {
   "cell_type": "code",
   "execution_count": 9,
   "metadata": {},
   "outputs": [
    {
     "name": "stdout",
     "output_type": "stream",
     "text": [
      "1574\n",
      "683\n"
     ]
    }
   ],
   "source": [
    "#import all necessary information from respective files\n",
    "chrom, telom, centrom, allgenesYESdirect, allgenesYESindirect, allgenesNO, temp, genome= [],[],[],[], [], [], [], []\n",
    "a = 0\n",
    "\n",
    "allgenesYES =[]\n",
    "\n",
    "for i in range(0,17):\n",
    "   telom.append([])\n",
    "   centrom.append([])\n",
    "   allgenesYESdirect.append([])\n",
    "   allgenesYESindirect.append([])\n",
    "   allgenesNO.append([])\n",
    "   genome.append([])\n",
    "\n",
    "with open(\"../Intermediate Files/outputchrom.csv\") as f:\n",
    "    data = csv.reader(f)\n",
    "    for line in data:\n",
    "        chrom.append(int(line[2]))\n",
    "\n",
    "with open(\"../Intermediate Files/outputtelom.csv\") as f:\n",
    "    data = csv.reader(f)\n",
    "    for line in data:\n",
    "        telom[int(line[0])-1].append((int(line[1]),int(line[2])))\n",
    "\n",
    "with open(\"../Intermediate Files/outputcentrom.csv\") as f:\n",
    "    data = csv.reader(f)\n",
    "    for line in data:\n",
    "        centrom[int(line[0])-1].append((int(line[1]),int(line[2])))\n",
    "\n",
    "with open(\"../Data File(s): Genes and Regulation/GeneFactor_GeneTarget.tsv\") as f:\n",
    "    data = csv.reader(f, delimiter = \"\\t\")\n",
    "    next(data)\n",
    "    for line in data:\n",
    "        if line[11] == \"manually curated\":\n",
    "            temp.append(line[2])\n",
    "\n",
    "print(len(temp)) #number of genetic interactions\n",
    "temp2 = list(set(temp))\n",
    "print(len(temp2))\n",
    "                    \n"
   ]
  },
  {
   "cell_type": "code",
   "execution_count": 10,
   "metadata": {},
   "outputs": [
    {
     "name": "stdout",
     "output_type": "stream",
     "text": [
      "7064\n"
     ]
    }
   ],
   "source": [
    "x = 0\n",
    "genome2 = []\n",
    "#imports all the genes that are not mt into the system\n",
    "with open(\"../Intermediate Files/allgenesformatted1.csv\") as f:\n",
    "    data = csv.reader(f)\n",
    "    for line in data:\n",
    "       x = x+1\n",
    "       if line[1] == \"DUR1,2\":\n",
    "          line[1] = \"DUR1\"\n",
    "       if line[1] == \"ARG5,6\":\n",
    "          line[1] = \"ARG5\"\n",
    "       if line[0] != \"mt\":\n",
    "          genome2.append(line)\n",
    "print(len(genome2)) #total genes\n"
   ]
  },
  {
   "cell_type": "code",
   "execution_count": 11,
   "metadata": {},
   "outputs": [
    {
     "name": "stdout",
     "output_type": "stream",
     "text": [
      "683 7064 6381 6390\n",
      "done\n"
     ]
    }
   ],
   "source": [
    "val = 0\n",
    "same = []\n",
    "notsame = []\n",
    "for gene in genome2:\n",
    "    if gene[1] in temp2:\n",
    "        allgenesYESdirect[int(gene[0])-1].append((int(gene[2]),int(gene[3])))\n",
    "        same.append(gene[1])\n",
    "    else:\n",
    "        val = val+1\n",
    "        allgenesNO[int(gene[0])-1].append((int(gene[2]),int(gene[3])))\n",
    "        notsame.append(gene[1])\n",
    "print(len(temp2), len(genome2), len(genome2)-len(temp2), val)\n",
    "        \n",
    "print(\"done\")"
   ]
  },
  {
   "cell_type": "code",
   "execution_count": 12,
   "metadata": {},
   "outputs": [],
   "source": [
    "reggenes = pd.DataFrame(same)\n",
    "nonreggenes = pd.DataFrame(notsame)"
   ]
  },
  {
   "cell_type": "code",
   "execution_count": null,
   "metadata": {},
   "outputs": [],
   "source": [
    "#optional write to csv\n",
    "reggenes.to_csv(\"yeast_reggenes.csv\", header = False, index = False)\n",
    "nonreggenes.to_csv(\"yeast_nonreggenes.csv\", header = False, index = False)"
   ]
  },
  {
   "cell_type": "code",
   "execution_count": 13,
   "metadata": {},
   "outputs": [],
   "source": [
    "#get rid of duplicates if any\n",
    "allgenesYESdirect = [list(set(chromo)) for chromo in allgenesYESdirect]\n",
    "#allgenesYESindirect = [list(set(chromo)) for chromo in allgenesYESindirect]\n",
    "allgenesNO = [list(set(chromo)) for chromo in allgenesNO]"
   ]
  },
  {
   "cell_type": "code",
   "execution_count": 14,
   "metadata": {},
   "outputs": [
    {
     "name": "stdout",
     "output_type": "stream",
     "text": [
      "674\n",
      "6390\n"
     ]
    }
   ],
   "source": [
    "print(sum([len(listElem) for listElem in allgenesYESdirect])) #final count cis\n",
    "print(sum([len(listElem) for listElem in allgenesNO])) #final count no regulation"
   ]
  },
  {
   "cell_type": "code",
   "execution_count": 42,
   "metadata": {},
   "outputs": [
    {
     "data": {
      "image/png": "[encoded data removed]",
      "text/plain": [
       "<Figure size 432x288 with 1 Axes>"
      ]
     },
     "metadata": {
      "needs_background": "light"
     },
     "output_type": "display_data"
    }
   ],
   "source": [
    "#Define the edges and staring/ending points of the chromosomes along with their sizes\n",
    "yticks = []\n",
    "yranges = []\n",
    "yranges2 = []\n",
    "yranges3 = []\n",
    "yranges4 = []\n",
    "yrange1, yrange2, yrange3, yranges5, yranges6 = [], [], [], [], []\n",
    "listreg = []\n",
    "\n",
    "for i in range(1,17):\n",
    "   yranges.append([(i*30)-10.5, 10])\n",
    "   yranges2.append([(i*30)-10.5, 0.5])\n",
    "   yranges3.append([(i*30)-5.5,0.5])\n",
    "   yranges4.append([(i*30)-12.5, 21])\n",
    "   yranges5.append([(i*30)-0.5,0.5])\n",
    "   yranges6.append([(i*30)+4.5,0.5])\n",
    "   yrange1.append([(i*30)-10,5])\n",
    "   yrange2.append([(i*30)-5,5])\n",
    "   yrange3.append([(i*30),5])\n",
    "   yticks.append((i*30)-1.5)\n",
    "   listreg.append([])\n",
    "\n",
    "for i in range(0,16):\n",
    "    listreg[i] = allgenesYESindirect[i] + allgenesNO[i]\n",
    "\n",
    "\n",
    "fig = pyplot.figure()\n",
    "ax = fig.add_subplot(111)\n",
    "\n",
    "#Plot the data. BrokenbarHcollection (matplotlib) takes inputs in the form of [(start,length), (start, length)...] for\n",
    "#both x and y.\n",
    "#This chunk plots the edges and ends of the chromosome, essentially everything in black as well\n",
    "for i in range(0,16):\n",
    "    coll = BrokenBarHCollection([(-1000,1000),(chrom[i], 1000)], yranges[i], facecolor=\"black\", zorder= 0.5)#, clip_box = from_bounds(0, 20, 100000, 5))\n",
    "    ax.add_collection(coll)\n",
    "    #col2 = BrokenBarHCollection(telom[i], yranges[i], facecolor=\"purple\", zorder= 0.5)\n",
    "    #ax.add_collection(col2)\n",
    "    col3 = BrokenBarHCollection(centrom[i], yranges4[i], facecolor=\"brown\", zorder= 0.5)\n",
    "    ax.add_collection(col3)\n",
    "    col4 = BrokenBarHCollection([(-1000,chrom[i]+ 2000)], yranges2[i], facecolor=\"black\", zorder= 0.5)#, clip_box = from_bounds(0, 20, 100000, 5))\n",
    "    ax.add_collection(col4)\n",
    "    #col5 = BrokenBarHCollection([(-1000,chrom[i]+ 2000)], yranges3[i], facecolor=\"black\", zorder= 0.5)#, clip_box = from_bounds(0, 20, 100000, 5))\n",
    "    #ax.add_collection(col5)\n",
    "    #col6 = BrokenBarHCollection(allgenesYESdirect[i], yrange3[i], facecolor=\"blue\", zorder= 0.3)#, clip_box = from_bounds(0, 20, 100000, 5))\n",
    "    #ax.add_collection(col6)\n",
    "    col7 = BrokenBarHCollection(listreg[i], yrange1[i], facecolor=\"red\", zorder= 0.2)\n",
    "    ax.add_collection(col7)\n",
    "    col8 = BrokenBarHCollection(allgenesYESdirect[i], yrange2[i], facecolor=\"blue\", zorder= 0.3)#, clip_box = from_bounds(0, 20, 100000, 5))\n",
    "    ax.add_collection(col8)\n",
    "    col9 = BrokenBarHCollection([(-1000,chrom[i]+ 2000)], yranges5[i], facecolor=\"black\", zorder= 0.5)#, clip_box = from_bounds(0, 20, 100000, 5))\n",
    "    ax.add_collection(col9)\n",
    "    #col10 = BrokenBarHCollection([(-1000,chrom[i]+ 2000)], yranges6[i], facecolor=\"black\", zorder= 0.5)#, clip_box = from_bounds(0, 20, 100000, 5))\n",
    "    #ax.add_collection(col10)\n",
    "\n",
    "#Sets the labels\n",
    "yticklabels = []\n",
    "for a in range(1,17):\n",
    "    yticklabels.append(a)\n",
    "\n",
    "#basically plots and sets some final parameters to improve viewability\n",
    "ax.set_yticks(yticks)\n",
    "ax.set_yticklabels(yticklabels) \n",
    "pyplot.ylabel(\"Chromosome Number\")\n",
    "pyplot.xlabel(\"Position along the chromosome (in multiples of 1 Mbp)\")\n",
    "ax.axis('tight')\n",
    "pyplot.savefig(\"../SCerevisiae.pdf\")\n",
    "\n"
   ]
  },
  {
   "cell_type": "code",
   "execution_count": null,
   "metadata": {},
   "outputs": [],
   "source": []
  }
 ],
 "metadata": {
  "kernelspec": {
   "display_name": "Python 3",
   "language": "python",
   "name": "python3"
  },
  "language_info": {
   "codemirror_mode": {
    "name": "ipython",
    "version": 3
   },
   "file_extension": ".py",
   "mimetype": "text/x-python",
   "name": "python",
   "nbconvert_exporter": "python",
   "pygments_lexer": "ipython3",
   "version": "3.8.3"
  }
 },
 "nbformat": 4,
 "nbformat_minor": 4
}
